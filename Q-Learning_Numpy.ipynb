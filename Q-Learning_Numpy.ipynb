{
  "nbformat": 4,
  "nbformat_minor": 0,
  "metadata": {
    "colab": {
      "name": "QLearning_Numpy.ipynb",
      "provenance": [],
      "collapsed_sections": []
    },
    "kernelspec": {
      "name": "python3",
      "display_name": "Python 3"
    }
  },
  "cells": [
    {
      "cell_type": "code",
      "metadata": {
        "id": "AIpU2iJljeGP",
        "colab_type": "code",
        "colab": {
          "base_uri": "https://localhost:8080/",
          "height": 34
        },
        "outputId": "28fcb7ae-aa26-4979-dd32-b4209f1cb26d"
      },
      "source": [
        "# Code to find the shortest optimal path for a Robot to reach a particular location using Q learning algorithms for Reinforcement Learning. Q -> Quality\n",
        "\n",
        "'''\n",
        "Agent : Robots\n",
        "Environment : Automobile Factory Warehouse\n",
        "States : Locations at which a robot is present at a particular instance of time\n",
        "\n",
        "'''"
      ],
      "execution_count": 24,
      "outputs": [
        {
          "output_type": "execute_result",
          "data": {
            "text/plain": [
              "'\\nAgent : Robots\\nEnvironment : Automobile Factory Warehouse\\nStates : Locations at which a robot is present at a particular instance of time\\n\\n'"
            ]
          },
          "metadata": {
            "tags": []
          },
          "execution_count": 24
        }
      ]
    },
    {
      "cell_type": "code",
      "metadata": {
        "id": "7tlpI9diddZs",
        "colab_type": "code",
        "colab": {}
      },
      "source": [
        "import numpy as np"
      ],
      "execution_count": 0,
      "outputs": []
    },
    {
      "cell_type": "code",
      "metadata": {
        "id": "kFaGGTfbdkCj",
        "colab_type": "code",
        "colab": {}
      },
      "source": [
        "#Initialize the parameters\n",
        "gamma = 0.75 #Discount Factor\n",
        "alpha = 0.9 # Learning Rate"
      ],
      "execution_count": 0,
      "outputs": []
    },
    {
      "cell_type": "code",
      "metadata": {
        "id": "6g-vwFqJfEsk",
        "colab_type": "code",
        "colab": {}
      },
      "source": [
        "#Define the states\n",
        "location_to_state = {\n",
        "    'L1' : 0,\n",
        "    'L2' : 1,\n",
        "    'L3' : 2,\n",
        "    'L4' : 3,\n",
        "    'L5' : 4,\n",
        "    'L6' : 5,\n",
        "    'L7' : 6,\n",
        "    'L8' : 7,\n",
        "    'L9' : 8\n",
        "}"
      ],
      "execution_count": 0,
      "outputs": []
    },
    {
      "cell_type": "code",
      "metadata": {
        "id": "jsgjWX9Pfo4A",
        "colab_type": "code",
        "colab": {}
      },
      "source": [
        "#Array of actions\n",
        "actions = [1,2,3,4,5,6,7,8]"
      ],
      "execution_count": 0,
      "outputs": []
    },
    {
      "cell_type": "code",
      "metadata": {
        "id": "paLhKk0Mf3qU",
        "colab_type": "code",
        "colab": {}
      },
      "source": [
        "#Defining the rewards\n",
        "rewards = np.array([\n",
        "[0,1,0,0,0,0,0,0,0],\n",
        "    [1,0,1,0,0,0,0,0,0],\n",
        "    [0,1,0,0,0,1,0,0,0],\n",
        "    [0,0,0,0,0,0,1,0,0],\n",
        "    [0,1,0,0,0,0,0,1,0],\n",
        "    [0,0,1,0,0,0,0,0,0],\n",
        "    [0,0,0,1,0,0,0,1,0],\n",
        "    [0,0,0,0,1,0,1,0,1],\n",
        "    [0,0,0,0,0,0,0,1,0]\n",
        "])"
      ],
      "execution_count": 0,
      "outputs": []
    },
    {
      "cell_type": "code",
      "metadata": {
        "id": "zigwEs3Ag3Go",
        "colab_type": "code",
        "colab": {}
      },
      "source": [
        "#Maps indices to locations\n",
        "state_to_location = dict((state,location) for location,state in location_to_state.items())"
      ],
      "execution_count": 0,
      "outputs": []
    },
    {
      "cell_type": "code",
      "metadata": {
        "id": "BB7FFIu5hnVn",
        "colab_type": "code",
        "colab": {}
      },
      "source": [
        "def get_optimal_route (start_location, end_location):\n",
        "  # copy the rewards matrix to new matrix\n",
        "  rewards_new = np.copy(rewards)\n",
        "  # Get the ending state corresponding the ending location as given\n",
        "  ending_state = location_to_state[end_location]\n",
        "  # With the above information automatically set the priority of the the given ending state to the highest one\n",
        "  rewards_new[ending_state, ending_state] = 999\n",
        "  \n",
        "  \n",
        "  # <<<<<<<<<<<<<<<<<<<<<<<<<<<<<<<< Q Learning Algorithm >>>>>>>>>>>>>>>>>>>>>>>>>>>>>>>>>>>>>>>>>>>>> #\n",
        "  \n",
        "  # Initialising the Q values\n",
        "  Q = np.array(np.zeros([9,9]))\n",
        "  \n",
        "  # Q learning process\n",
        "  for i in range (1000):\n",
        "    \n",
        "    # Pick up a state randomly\n",
        "    current_state = np.random.randint(0,9) # 0 -> 8\n",
        "    \n",
        "    # For traversing through the neighbour locations in the maze\n",
        "    playable_actions = []\n",
        "    \n",
        "    # Iterate through the new reward matrix and get actions > 0\n",
        "    for j in range (9):\n",
        "      if rewards_new[current_state, j] > 0:\n",
        "        playable_actions.append(j)\n",
        "        \n",
        "     # Pick an action randomly from the list of playable actions leading to the next state\n",
        "    next_state = np.random.choice(playable_actions)\n",
        "    # Compute the temporal difference\n",
        "    # The acion here exactly refers to going to the next state\n",
        "    TD = rewards_new[current_state, next_state] + gamma*Q[next_state, np.argmax(Q[next_state, ])] - Q[current_state, next_state]\n",
        "    \n",
        "    # Update the Q value using the Bellman Equation\n",
        "    Q[current_state, next_state] = Q[current_state, next_state] + (alpha * TD)\n",
        "    \n",
        "  # Initialize the optimal route with the starting location\n",
        "  route = [start_location]\n",
        "  \n",
        "  # We do not know about the next location so we initialize with the value of the starting location\n",
        "  next_location = start_location\n",
        "  \n",
        "  while (next_location is not end_location):\n",
        "    # Fetch the starting state\n",
        "    starting_state = location_to_state[start_location]\n",
        "    \n",
        "    # Fetch the highest Q value pertaining to the starting state\n",
        "    next_state = np.argmax(Q[starting_state, ])\n",
        "  \n",
        "    # We got the index of the next state but we need the corresponding letter\n",
        "    next_location = state_to_location[next_state]\n",
        "    route.append(next_location)\n",
        "    \n",
        "    # Update the starting location for the next iteration\n",
        "    start_location = next_location\n",
        "    \n",
        "  return route  \n",
        "  "
      ],
      "execution_count": 0,
      "outputs": []
    },
    {
      "cell_type": "code",
      "metadata": {
        "id": "NprbZP3VAZ5N",
        "colab_type": "code",
        "colab": {
          "base_uri": "https://localhost:8080/",
          "height": 34
        },
        "outputId": "a3741c62-3c97-4432-e3ba-92e8905a2976"
      },
      "source": [
        "print (get_optimal_route ('L9' , 'L1'))"
      ],
      "execution_count": 33,
      "outputs": [
        {
          "output_type": "stream",
          "text": [
            "['L9', 'L8', 'L5', 'L2', 'L1']\n"
          ],
          "name": "stdout"
        }
      ]
    },
    {
      "cell_type": "code",
      "metadata": {
        "id": "uowZ-ALXFCnl",
        "colab_type": "code",
        "colab": {
          "base_uri": "https://localhost:8080/",
          "height": 34
        },
        "outputId": "702c9571-ec7a-4d3f-de5e-9b9fa07ef77f"
      },
      "source": [
        "print (get_optimal_route ('L4', 'L3'))"
      ],
      "execution_count": 34,
      "outputs": [
        {
          "output_type": "stream",
          "text": [
            "['L4', 'L7', 'L8', 'L5', 'L2', 'L3']\n"
          ],
          "name": "stdout"
        }
      ]
    },
    {
      "cell_type": "code",
      "metadata": {
        "id": "mBa7gqGCFKyC",
        "colab_type": "code",
        "colab": {
          "base_uri": "https://localhost:8080/",
          "height": 34
        },
        "outputId": "fe3a157f-9302-4dd3-8918-19f52a6b8818"
      },
      "source": [
        "print (get_optimal_route ('L8', 'L2'))"
      ],
      "execution_count": 38,
      "outputs": [
        {
          "output_type": "stream",
          "text": [
            "['L8', 'L5', 'L2']\n"
          ],
          "name": "stdout"
        }
      ]
    },
    {
      "cell_type": "code",
      "metadata": {
        "id": "vketkgqFFPEu",
        "colab_type": "code",
        "colab": {
          "base_uri": "https://localhost:8080/",
          "height": 34
        },
        "outputId": "bfeaf24d-c3e1-46bc-8cd0-1046dff68b36"
      },
      "source": [
        "print (get_optimal_route ('L7', 'L1'))"
      ],
      "execution_count": 39,
      "outputs": [
        {
          "output_type": "stream",
          "text": [
            "['L7', 'L8', 'L5', 'L2', 'L1']\n"
          ],
          "name": "stdout"
        }
      ]
    }
  ]
}